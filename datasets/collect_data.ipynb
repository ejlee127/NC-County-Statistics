{
 "cells": [
  {
   "cell_type": "markdown",
   "metadata": {},
   "source": [
    "# Collect data\n",
    "\n",
    "### Cesus dot gov"
   ]
  },
  {
   "cell_type": "code",
   "execution_count": 1,
   "metadata": {
    "scrolled": true
   },
   "outputs": [],
   "source": [
    "# Dependencies and Setup\n",
    "import pandas as pd\n",
    "import numpy as np\n",
    "import requests\n",
    "import json\n",
    "import time\n",
    "\n",
    "# Import API key\n",
    "from config import news_api_key, census_api_key"
   ]
  },
  {
   "cell_type": "markdown",
   "metadata": {},
   "source": [
    "### NAICS codes table\n",
    "\n",
    "    2012~ : there are sub categories\n",
    "    Before 2012, the number of employeements is available in total, no sub categories.\n",
    "   \n",
    "    For sub category bar chart, data from 2012 will be displayed.\n",
    "    \n",
    "    For timeline chart, data from 1986, number of employ will be displayed."
   ]
  },
  {
   "cell_type": "code",
   "execution_count": 2,
   "metadata": {},
   "outputs": [],
   "source": [
    "# NAICS2017 codes and labels:  CBP data of 2017~2018 refer to NICS2017 table for business labels\n",
    "url = \"https://api.census.gov/data/2018/cbp/variables/NAICS2017.json\"\n",
    "result = requests.get(url).json()\n",
    "naics_items = result[\"values\"][\"item\"]\n",
    "naics2017 = { ky: naics_items[ky] for ky in naics_items.keys() if len(ky)==2}\n",
    "\n",
    "# NAICS2012 codes and labels : CBP data of 2012~2016 refer to NICS2012 table for business labels\n",
    "url = \"https://api.census.gov/data/2016/cbp/variables/NAICS2012.json\"\n",
    "result = requests.get(url).json()\n",
    "naics_items = result[\"values\"][\"item\"]\n",
    "naics2012 = { ky: naics_items[ky] for ky in naics_items.keys() if len(ky)==2}\n",
    "\n",
    "# Write the tables to json files\n",
    "with open(\"naics2017.json\", \"w\") as outfile:  \n",
    "    json.dump(naics2017, outfile)\n",
    "\n",
    "with open(\"naics2012.json\", \"w\") as outfile:  \n",
    "    json.dump(naics2012, outfile)"
   ]
  },
  {
   "cell_type": "markdown",
   "metadata": {},
   "source": [
    "### County codes and names"
   ]
  },
  {
   "cell_type": "code",
   "execution_count": 3,
   "metadata": {},
   "outputs": [],
   "source": [
    "# NC County names and codes\n",
    "url = \"https://api.census.gov/data/2018/cbp?get=NAME&for=county:*&in=state:37&key=\"+census_api_key\n",
    "result = requests.get(url).json()"
   ]
  },
  {
   "cell_type": "code",
   "execution_count": 6,
   "metadata": {},
   "outputs": [
    {
     "data": {
      "text/html": [
       "<div>\n",
       "<style scoped>\n",
       "    .dataframe tbody tr th:only-of-type {\n",
       "        vertical-align: middle;\n",
       "    }\n",
       "\n",
       "    .dataframe tbody tr th {\n",
       "        vertical-align: top;\n",
       "    }\n",
       "\n",
       "    .dataframe thead th {\n",
       "        text-align: right;\n",
       "    }\n",
       "</style>\n",
       "<table border=\"1\" class=\"dataframe\">\n",
       "  <thead>\n",
       "    <tr style=\"text-align: right;\">\n",
       "      <th></th>\n",
       "      <th>NAME</th>\n",
       "    </tr>\n",
       "    <tr>\n",
       "      <th>county</th>\n",
       "      <th></th>\n",
       "    </tr>\n",
       "  </thead>\n",
       "  <tbody>\n",
       "    <tr>\n",
       "      <th>079</th>\n",
       "      <td>Greene County, North Carolina</td>\n",
       "    </tr>\n",
       "    <tr>\n",
       "      <th>087</th>\n",
       "      <td>Haywood County, North Carolina</td>\n",
       "    </tr>\n",
       "    <tr>\n",
       "      <th>121</th>\n",
       "      <td>Mitchell County, North Carolina</td>\n",
       "    </tr>\n",
       "    <tr>\n",
       "      <th>041</th>\n",
       "      <td>Chowan County, North Carolina</td>\n",
       "    </tr>\n",
       "    <tr>\n",
       "      <th>045</th>\n",
       "      <td>Cleveland County, North Carolina</td>\n",
       "    </tr>\n",
       "  </tbody>\n",
       "</table>\n",
       "</div>"
      ],
      "text/plain": [
       "                                    NAME\n",
       "county                                  \n",
       "079        Greene County, North Carolina\n",
       "087       Haywood County, North Carolina\n",
       "121      Mitchell County, North Carolina\n",
       "041        Chowan County, North Carolina\n",
       "045     Cleveland County, North Carolina"
      ]
     },
     "execution_count": 6,
     "metadata": {},
     "output_type": "execute_result"
    }
   ],
   "source": [
    "df = pd.DataFrame(result, columns=result[0])\n",
    "county_df=df.drop(0).set_index(\"county\").drop([\"state\"], axis=1)\n",
    "county_df.head()"
   ]
  },
  {
   "cell_type": "code",
   "execution_count": 7,
   "metadata": {},
   "outputs": [],
   "source": [
    "# Write the table to json file\n",
    "#county_df.to_json(\"county_codes.json\", orient=\"table\", index=False)\n",
    "county_df.to_json(\"county_codes.json\", orient=\"records\")"
   ]
  },
  {
   "cell_type": "markdown",
   "metadata": {},
   "source": [
    "### Set the variables, keys for API calls\n"
   ]
  },
  {
   "cell_type": "code",
   "execution_count": 83,
   "metadata": {},
   "outputs": [],
   "source": [
    "## The quary variables vary in years\n",
    "\n",
    "def set_url(year):\n",
    "    cbp_url = f'https://api.census.gov/data/{year}/cbp?get='\n",
    "    if (year >= 2017):\n",
    "        variables = \"NAICS2017,NAME,EMP\"\n",
    "    elif (year >= 2012):\n",
    "        variables = \"NAICS2012,GEO_TTL,EMP\"\n",
    "    elif (year > 2007):\n",
    "        variables = \"NAICS2007_TTL,GEO_TTL,EMP\"\n",
    "    elif (year > 2002):\n",
    "        variables = \"NAICS2002_TTL,GEO_TTL,EMP\"\n",
    "    elif (year > 1997):\n",
    "        variables = \"NAICS1997_TTL,GEO_TTL,EMP\"\n",
    "    else:\n",
    "        variables = \"GEO_TTL,EMP\"\n",
    "        \n",
    "    return cbp_url+variables+\"&for=county:*&in=state:37&key=\"+census_api_key\n"
   ]
  },
  {
   "cell_type": "markdown",
   "metadata": {},
   "source": [
    "### Perform API calls"
   ]
  },
  {
   "cell_type": "code",
   "execution_count": 84,
   "metadata": {},
   "outputs": [
    {
     "name": "stdout",
     "output_type": "stream",
     "text": [
      "<Response [200]>\n"
     ]
    }
   ],
   "source": [
    "#query_string = \"?get=NAICS2007_TTL,GEO_TTL,EMP,LFO_TTL,ESTAB&for=us:*&key=\" + census_api_key\n",
    "#url = \"https://api.census.gov/data/2018/cbp?get=NAICS2017,GEO_ID,NAME,EMP&for=county:*&in=state:37&key=\"\n",
    "\n",
    "url = set_url(2012)\n",
    "\n",
    "try:\n",
    "    response = requests.get(url)\n",
    "    print(response)\n",
    "    census_data = response.json()\n",
    "    #print(json.dumps(census_data, indent=4))\n",
    "except:\n",
    "    print(f\"Found error\")    "
   ]
  },
  {
   "cell_type": "code",
   "execution_count": 70,
   "metadata": {},
   "outputs": [
    {
     "data": {
      "text/html": [
       "<div>\n",
       "<style scoped>\n",
       "    .dataframe tbody tr th:only-of-type {\n",
       "        vertical-align: middle;\n",
       "    }\n",
       "\n",
       "    .dataframe tbody tr th {\n",
       "        vertical-align: top;\n",
       "    }\n",
       "\n",
       "    .dataframe thead th {\n",
       "        text-align: right;\n",
       "    }\n",
       "</style>\n",
       "<table border=\"1\" class=\"dataframe\">\n",
       "  <thead>\n",
       "    <tr style=\"text-align: right;\">\n",
       "      <th></th>\n",
       "      <th>NAICS2012</th>\n",
       "      <th>GEO_TTL</th>\n",
       "      <th>EMP</th>\n",
       "      <th>state</th>\n",
       "      <th>county</th>\n",
       "    </tr>\n",
       "  </thead>\n",
       "  <tbody>\n",
       "    <tr>\n",
       "      <th>0</th>\n",
       "      <td>32311</td>\n",
       "      <td>Wake County, North Carolina</td>\n",
       "      <td>999</td>\n",
       "      <td>37</td>\n",
       "      <td>183</td>\n",
       "    </tr>\n",
       "    <tr>\n",
       "      <th>1</th>\n",
       "      <td>236118</td>\n",
       "      <td>Mecklenburg County, North Carolina</td>\n",
       "      <td>999</td>\n",
       "      <td>37</td>\n",
       "      <td>119</td>\n",
       "    </tr>\n",
       "    <tr>\n",
       "      <th>2</th>\n",
       "      <td>4461</td>\n",
       "      <td>Cumberland County, North Carolina</td>\n",
       "      <td>999</td>\n",
       "      <td>37</td>\n",
       "      <td>051</td>\n",
       "    </tr>\n",
       "    <tr>\n",
       "      <th>3</th>\n",
       "      <td>446</td>\n",
       "      <td>Cumberland County, North Carolina</td>\n",
       "      <td>999</td>\n",
       "      <td>37</td>\n",
       "      <td>051</td>\n",
       "    </tr>\n",
       "    <tr>\n",
       "      <th>4</th>\n",
       "      <td>42</td>\n",
       "      <td>Durham County, North Carolina</td>\n",
       "      <td>9980</td>\n",
       "      <td>37</td>\n",
       "      <td>063</td>\n",
       "    </tr>\n",
       "  </tbody>\n",
       "</table>\n",
       "</div>"
      ],
      "text/plain": [
       "  NAICS2012                             GEO_TTL   EMP state county\n",
       "0     32311         Wake County, North Carolina   999    37    183\n",
       "1    236118  Mecklenburg County, North Carolina   999    37    119\n",
       "2      4461   Cumberland County, North Carolina   999    37    051\n",
       "3       446   Cumberland County, North Carolina   999    37    051\n",
       "4        42       Durham County, North Carolina  9980    37    063"
      ]
     },
     "execution_count": 70,
     "metadata": {},
     "output_type": "execute_result"
    }
   ],
   "source": [
    "df = pd.DataFrame(census_data, columns=census_data[0])\n",
    "emp_df=df.drop(0).sort_values(by=\"EMP\", ignore_index=True, ascending=False)\n",
    "emp_df.head()"
   ]
  },
  {
   "cell_type": "code",
   "execution_count": 78,
   "metadata": {},
   "outputs": [
    {
     "data": {
      "text/plain": [
       "0         32311\n",
       "1        236118\n",
       "2          4461\n",
       "3           446\n",
       "4            42\n",
       "          ...  \n",
       "80414     44411\n",
       "80415    444110\n",
       "80416    445292\n",
       "80417    444120\n",
       "80418     81331\n",
       "Name: NAICS2012, Length: 80419, dtype: string"
      ]
     },
     "execution_count": 78,
     "metadata": {},
     "output_type": "execute_result"
    }
   ],
   "source": [
    "emp_df[\"NAICS2012\"].astype(\"string\")"
   ]
  },
  {
   "cell_type": "code",
   "execution_count": 76,
   "metadata": {},
   "outputs": [
    {
     "data": {
      "text/plain": [
       "NAICS2012    object\n",
       "GEO_TTL      object\n",
       "EMP          object\n",
       "state        object\n",
       "county       object\n",
       "dtype: object"
      ]
     },
     "execution_count": 76,
     "metadata": {},
     "output_type": "execute_result"
    }
   ],
   "source": [
    "emp_df.dtypes"
   ]
  },
  {
   "cell_type": "code",
   "execution_count": null,
   "metadata": {},
   "outputs": [],
   "source": []
  }
 ],
 "metadata": {
  "anaconda-cloud": {},
  "kernel_info": {
   "name": "python3"
  },
  "kernelspec": {
   "display_name": "Python 3.6.10 64-bit ('PythonData': conda)",
   "language": "python",
   "name": "python361064bitpythondatacondac32fb4695c664fa9afac8681922271ab"
  },
  "language_info": {
   "codemirror_mode": {
    "name": "ipython",
    "version": 3
   },
   "file_extension": ".py",
   "mimetype": "text/x-python",
   "name": "python",
   "nbconvert_exporter": "python",
   "pygments_lexer": "ipython3",
   "version": "3.6.10"
  },
  "latex_envs": {
   "LaTeX_envs_menu_present": true,
   "autoclose": false,
   "autocomplete": true,
   "bibliofile": "biblio.bib",
   "cite_by": "apalike",
   "current_citInitial": 1,
   "eqLabelWithNumbers": true,
   "eqNumInitial": 1,
   "hotkeys": {
    "equation": "Ctrl-E",
    "itemize": "Ctrl-I"
   },
   "labels_anchors": false,
   "latex_user_defs": false,
   "report_style_numbering": false,
   "user_envs_cfg": false
  },
  "nteract": {
   "version": "0.12.3"
  }
 },
 "nbformat": 4,
 "nbformat_minor": 2
}
