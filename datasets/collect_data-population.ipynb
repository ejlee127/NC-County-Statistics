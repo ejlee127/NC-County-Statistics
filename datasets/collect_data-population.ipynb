{
 "cells": [
  {
   "cell_type": "markdown",
   "metadata": {},
   "source": [
    "## Population Data\n",
    "\n",
    "### NC 1990 Census table\n",
    "\n",
    "https://www.osbm.nc.gov/facts-figures/demographics/1990-2000-county-growth\n",
    "\n",
    "### Census demographic api\n",
    "\n",
    "https://demography.osbm.nc.gov/explore/?sort=modified\n",
    "\n",
    "* state-wide population: https://demography.osbm.nc.gov/explore/dataset/historic-census/table/?disjunctive.areatype&disjunctive.areaname&rows=30&q.timerange.year=year:%5B1979-01-01T05:00:00Z+TO+2020-01-02T04:59:59Z%5D&refine.areatype=State\n",
    "\n",
    "* Downloaded historical NC census data for the cesus years : historic-census.json\n",
    "\n",
    "### Census dot gov\n",
    "source(2000~2010) API : https://www.census.gov/data/developers/data-sets/popest-popproj/popest.2000-2010_Intercensals.html\n",
    "\n",
    "source(1990-2000) : Can't find county pop.\n",
    "https://www.census.gov/data/developers/data-sets/popest-popproj/popest.1990-2000_Intercensals.html\n",
    "do NOT have geographical variable."
   ]
  },
  {
   "cell_type": "code",
   "execution_count": 1,
   "metadata": {},
   "outputs": [],
   "source": [
    "# Dependencies and Setup\n",
    "import pandas as pd\n",
    "import numpy as np\n",
    "import requests\n",
    "import json\n",
    "import time\n",
    "import csv\n",
    "\n",
    "# Import API key\n",
    "from config import census_api_key"
   ]
  },
  {
   "cell_type": "markdown",
   "metadata": {},
   "source": [
    "#### NC - County population (1980, 1990, 2000)\n",
    "* NC census demographic data\n",
    "\n",
    "    https://demography.osbm.nc.gov/explore/?sort=modified\n",
    "    \n",
    "  from the downloaded file(county data), build up a population array"
   ]
  },
  {
   "cell_type": "code",
   "execution_count": 4,
   "metadata": {},
   "outputs": [],
   "source": [
    "# Histroic NC census data\n",
    "query_years = ['1980', '1990', '2000']\n",
    "years_pop1 = [\n",
    "    ['year', 'county', 'population'],\n",
    "    ['1990', 'STATE', '6628637'],\n",
    "    ['1980', 'STATE', '5881766'],\n",
    "    ['2000', 'STATE', '8046668']\n",
    "]\n",
    "\n",
    "with open(\"historic-census.json\") as f:\n",
    "    pop_data = json.load(f)\n",
    "\n",
    "    for each_data in pop_data:\n",
    "\n",
    "        field_data = each_data['fields']\n",
    "\n",
    "        if field_data['year'] in query_years:\n",
    "            sel_data = [field_data['year'],\n",
    "                       field_data['areaname'],\n",
    "                       str(int(field_data['population']))]\n",
    "            years_pop1.append(sel_data)"
   ]
  },
  {
   "cell_type": "code",
   "execution_count": 5,
   "metadata": {},
   "outputs": [
    {
     "data": {
      "text/plain": [
       "[['1980', 'New Hanover', '103471'],\n",
       " ['2000', 'New Hanover', '160327'],\n",
       " ['1990', 'New Hanover', '120284']]"
      ]
     },
     "execution_count": 5,
     "metadata": {},
     "output_type": "execute_result"
    }
   ],
   "source": [
    "# Check the data\n",
    "cty = 'New Hanover'\n",
    "list(filter(lambda d: (d[1] == cty), years_pop1))"
   ]
  },
  {
   "cell_type": "markdown",
   "metadata": {},
   "source": [
    "####  NC - County population (2001 ~ 2010)\n",
    "\n",
    "    source: census dot gov"
   ]
  },
  {
   "cell_type": "code",
   "execution_count": 2,
   "metadata": {},
   "outputs": [
    {
     "name": "stdout",
     "output_type": "stream",
     "text": [
      "https://api.census.gov/data/2000/pep/int_population?get=GEONAME,POP,DATE_DESC&for=county:*&in=state:37&key=c27d20165731bd731fe0b28ba84169ac2877e759\n",
      "<Response [200]>\n"
     ]
    },
    {
     "data": {
      "text/html": [
       "<div>\n",
       "<style scoped>\n",
       "    .dataframe tbody tr th:only-of-type {\n",
       "        vertical-align: middle;\n",
       "    }\n",
       "\n",
       "    .dataframe tbody tr th {\n",
       "        vertical-align: top;\n",
       "    }\n",
       "\n",
       "    .dataframe thead th {\n",
       "        text-align: right;\n",
       "    }\n",
       "</style>\n",
       "<table border=\"1\" class=\"dataframe\">\n",
       "  <thead>\n",
       "    <tr style=\"text-align: right;\">\n",
       "      <th></th>\n",
       "      <th>GEONAME</th>\n",
       "      <th>POP</th>\n",
       "      <th>DATE_DESC</th>\n",
       "      <th>state</th>\n",
       "      <th>county</th>\n",
       "    </tr>\n",
       "  </thead>\n",
       "  <tbody>\n",
       "    <tr>\n",
       "      <th>0</th>\n",
       "      <td>Greene County, North Carolina</td>\n",
       "      <td>19848</td>\n",
       "      <td>7/1/2003 population estimate</td>\n",
       "      <td>37</td>\n",
       "      <td>079</td>\n",
       "    </tr>\n",
       "    <tr>\n",
       "      <th>1</th>\n",
       "      <td>Greene County, North Carolina</td>\n",
       "      <td>20132</td>\n",
       "      <td>7/1/2004 population estimate</td>\n",
       "      <td>37</td>\n",
       "      <td>079</td>\n",
       "    </tr>\n",
       "    <tr>\n",
       "      <th>2</th>\n",
       "      <td>Greene County, North Carolina</td>\n",
       "      <td>20146</td>\n",
       "      <td>7/1/2005 population estimate</td>\n",
       "      <td>37</td>\n",
       "      <td>079</td>\n",
       "    </tr>\n",
       "    <tr>\n",
       "      <th>3</th>\n",
       "      <td>Greene County, North Carolina</td>\n",
       "      <td>20742</td>\n",
       "      <td>7/1/2006 population estimate</td>\n",
       "      <td>37</td>\n",
       "      <td>079</td>\n",
       "    </tr>\n",
       "    <tr>\n",
       "      <th>4</th>\n",
       "      <td>Greene County, North Carolina</td>\n",
       "      <td>21178</td>\n",
       "      <td>7/1/2007 population estimate</td>\n",
       "      <td>37</td>\n",
       "      <td>079</td>\n",
       "    </tr>\n",
       "  </tbody>\n",
       "</table>\n",
       "</div>"
      ],
      "text/plain": [
       "                         GEONAME    POP                     DATE_DESC state  \\\n",
       "0  Greene County, North Carolina  19848  7/1/2003 population estimate    37   \n",
       "1  Greene County, North Carolina  20132  7/1/2004 population estimate    37   \n",
       "2  Greene County, North Carolina  20146  7/1/2005 population estimate    37   \n",
       "3  Greene County, North Carolina  20742  7/1/2006 population estimate    37   \n",
       "4  Greene County, North Carolina  21178  7/1/2007 population estimate    37   \n",
       "\n",
       "  county  \n",
       "0    079  \n",
       "1    079  \n",
       "2    079  \n",
       "3    079  \n",
       "4    079  "
      ]
     },
     "execution_count": 2,
     "metadata": {},
     "output_type": "execute_result"
    }
   ],
   "source": [
    "## API call for the population of counties in NC from 2000~2010\n",
    "year = 2000\n",
    "pop_url = f'https://api.census.gov/data/{year}/pep/int_population'\n",
    "pop_var = '?get=GEONAME,POP,DATE_DESC&for=county:*&in=state:37'\n",
    "apikey = '&key=' + census_api_key\n",
    "print(pop_url+pop_var+apikey)\n",
    "## Request\n",
    "try:\n",
    "    response = requests.get(pop_url+pop_var+apikey)\n",
    "    print(response)\n",
    "    pop_data = response.json()\n",
    "    #print(json.dumps(census_data, indent=4))\n",
    "except:\n",
    "    print(f\"Found error\")\n",
    "    \n",
    "pop_df = pd.DataFrame(pop_data[1:], columns=pop_data[0])\n",
    "pop_df.head()"
   ]
  },
  {
   "cell_type": "code",
   "execution_count": 3,
   "metadata": {},
   "outputs": [],
   "source": [
    "years = []\n",
    "counties = []\n",
    "pop_array = []\n",
    "years_pop2 = []\n",
    "for drow in pop_df.iterrows():\n",
    "    row = drow[1]\n",
    "    #print(row)\n",
    "    gname = row['GEONAME'].split(' County')\n",
    "    county = gname[0]\n",
    "    #print(county)\n",
    "    counties.append(county)\n",
    "    dt_str = row['DATE_DESC'].split()\n",
    "    yr = dt_str[0].split('/')[2]\n",
    "    years.append(yr)\n",
    "    population = row['POP']\n",
    "    pop_array.append(int(population))\n",
    "    \n",
    "    # Append the county population \n",
    "    if (int(yr) > 2000) & (yr != '2010'):\n",
    "        years_pop2.append([yr,county,population])\n",
    "    \n",
    "pop_df['YEAR'] = years\n",
    "pop_df['CountyName'] = counties\n",
    "pop_df['population'] = pop_array"
   ]
  },
  {
   "cell_type": "code",
   "execution_count": 4,
   "metadata": {},
   "outputs": [
    {
     "data": {
      "text/html": [
       "<div>\n",
       "<style scoped>\n",
       "    .dataframe tbody tr th:only-of-type {\n",
       "        vertical-align: middle;\n",
       "    }\n",
       "\n",
       "    .dataframe tbody tr th {\n",
       "        vertical-align: top;\n",
       "    }\n",
       "\n",
       "    .dataframe thead th {\n",
       "        text-align: right;\n",
       "    }\n",
       "</style>\n",
       "<table border=\"1\" class=\"dataframe\">\n",
       "  <thead>\n",
       "    <tr style=\"text-align: right;\">\n",
       "      <th></th>\n",
       "      <th>GEONAME</th>\n",
       "      <th>POP</th>\n",
       "      <th>DATE_DESC</th>\n",
       "      <th>state</th>\n",
       "      <th>county</th>\n",
       "      <th>YEAR</th>\n",
       "      <th>CountyName</th>\n",
       "      <th>population</th>\n",
       "    </tr>\n",
       "  </thead>\n",
       "  <tbody>\n",
       "    <tr>\n",
       "      <th>10</th>\n",
       "      <td>Guilford County, North Carolina</td>\n",
       "      <td>428381</td>\n",
       "      <td>7/1/2001 population estimate</td>\n",
       "      <td>37</td>\n",
       "      <td>081</td>\n",
       "      <td>2001</td>\n",
       "      <td>Guilford</td>\n",
       "      <td>428381</td>\n",
       "    </tr>\n",
       "    <tr>\n",
       "      <th>22</th>\n",
       "      <td>Halifax County, North Carolina</td>\n",
       "      <td>56788</td>\n",
       "      <td>7/1/2001 population estimate</td>\n",
       "      <td>37</td>\n",
       "      <td>083</td>\n",
       "      <td>2001</td>\n",
       "      <td>Halifax</td>\n",
       "      <td>56788</td>\n",
       "    </tr>\n",
       "    <tr>\n",
       "      <th>34</th>\n",
       "      <td>Harnett County, North Carolina</td>\n",
       "      <td>93168</td>\n",
       "      <td>7/1/2001 population estimate</td>\n",
       "      <td>37</td>\n",
       "      <td>085</td>\n",
       "      <td>2001</td>\n",
       "      <td>Harnett</td>\n",
       "      <td>93168</td>\n",
       "    </tr>\n",
       "    <tr>\n",
       "      <th>46</th>\n",
       "      <td>Haywood County, North Carolina</td>\n",
       "      <td>54802</td>\n",
       "      <td>7/1/2001 population estimate</td>\n",
       "      <td>37</td>\n",
       "      <td>087</td>\n",
       "      <td>2001</td>\n",
       "      <td>Haywood</td>\n",
       "      <td>54802</td>\n",
       "    </tr>\n",
       "    <tr>\n",
       "      <th>58</th>\n",
       "      <td>Henderson County, North Carolina</td>\n",
       "      <td>91150</td>\n",
       "      <td>7/1/2001 population estimate</td>\n",
       "      <td>37</td>\n",
       "      <td>089</td>\n",
       "      <td>2001</td>\n",
       "      <td>Henderson</td>\n",
       "      <td>91150</td>\n",
       "    </tr>\n",
       "  </tbody>\n",
       "</table>\n",
       "</div>"
      ],
      "text/plain": [
       "                             GEONAME     POP                     DATE_DESC  \\\n",
       "10   Guilford County, North Carolina  428381  7/1/2001 population estimate   \n",
       "22    Halifax County, North Carolina   56788  7/1/2001 population estimate   \n",
       "34    Harnett County, North Carolina   93168  7/1/2001 population estimate   \n",
       "46    Haywood County, North Carolina   54802  7/1/2001 population estimate   \n",
       "58  Henderson County, North Carolina   91150  7/1/2001 population estimate   \n",
       "\n",
       "   state county  YEAR CountyName  population  \n",
       "10    37    081  2001   Guilford      428381  \n",
       "22    37    083  2001    Halifax       56788  \n",
       "34    37    085  2001    Harnett       93168  \n",
       "46    37    087  2001    Haywood       54802  \n",
       "58    37    089  2001  Henderson       91150  "
      ]
     },
     "execution_count": 4,
     "metadata": {},
     "output_type": "execute_result"
    }
   ],
   "source": [
    "pop_df.loc[pop_df['YEAR']=='2001'].head()"
   ]
  },
  {
   "cell_type": "code",
   "execution_count": 9,
   "metadata": {},
   "outputs": [],
   "source": [
    "# Compute the total population for NC and append the data to years_pop array\n",
    "pop_nums = pop_df.groupby(['YEAR'])['population'].sum()\n",
    "for items in pop_nums.items():\n",
    "    #print(items)\n",
    "    if (items[0]!='2000') & (items[0]!='2010'):\n",
    "        years_pop2.append([items[0], 'STATE', items[1]])\n",
    "#print(years_pop)"
   ]
  },
  {
   "cell_type": "code",
   "execution_count": 10,
   "metadata": {},
   "outputs": [
    {
     "data": {
      "text/plain": [
       "[['2001', 'New Hanover', '164386'],\n",
       " ['2002', 'New Hanover', '168147'],\n",
       " ['2003', 'New Hanover', '171928'],\n",
       " ['2004', 'New Hanover', '178362'],\n",
       " ['2005', 'New Hanover', '185412'],\n",
       " ['2006', 'New Hanover', '190791'],\n",
       " ['2007', 'New Hanover', '194339'],\n",
       " ['2008', 'New Hanover', '197709'],\n",
       " ['2009', 'New Hanover', '200178']]"
      ]
     },
     "execution_count": 10,
     "metadata": {},
     "output_type": "execute_result"
    }
   ],
   "source": [
    "# Check the data\n",
    "cty = 'New Hanover'\n",
    "list(filter(lambda d: (d[1] == cty), years_pop2))"
   ]
  },
  {
   "cell_type": "markdown",
   "metadata": {},
   "source": [
    "### Append the population data of 2010~2019"
   ]
  },
  {
   "cell_type": "code",
   "execution_count": 11,
   "metadata": {},
   "outputs": [],
   "source": [
    "# Collect population data for all years\n",
    "\n",
    "recent_yrs = ['2010','2011','2012','2013', '2014', '2015', '2016', '2017', '2018', '2019']\n",
    "years_pop3 = []\n",
    "\n",
    "# opening the CSV file\n",
    "with open('countytotals_2010_2019.csv', mode='r')as file:\n",
    "\n",
    "    # reading the CSV file\n",
    "    csvFile = csv.reader(file)\n",
    "    # skip the initial line\n",
    "    next(csvFile)\n",
    "    next(csvFile)\n",
    "    next(csvFile)\n",
    "    next(csvFile)\n",
    "    # loop throughthe file to find the county or full state depending on the input request.\n",
    "    for lines in csvFile:\n",
    "        cty = lines[0]\n",
    "        #print(cty.split()[0])\n",
    "        # Skip the end lines of the source file\n",
    "        if cty.split()[0]=='Source:':\n",
    "            break\n",
    "        for i in range(len(lines[1:])):\n",
    "            app_data = [ recent_yrs[i], cty, lines[i+1] ]\n",
    "            #print(app_data)\n",
    "            years_pop3.append(app_data)"
   ]
  },
  {
   "cell_type": "code",
   "execution_count": 28,
   "metadata": {},
   "outputs": [
    {
     "data": {
      "text/plain": [
       "[['2010', 'Wake', '906882'],\n",
       " ['2011', 'Wake', '924330'],\n",
       " ['2012', 'Wake', '944622'],\n",
       " ['2013', 'Wake', '963856'],\n",
       " ['2014', 'Wake', '983918'],\n",
       " ['2015', 'Wake', '1006139'],\n",
       " ['2016', 'Wake', '1028509'],\n",
       " ['2017', 'Wake', '1049943'],\n",
       " ['2018', 'Wake', '1070197'],\n",
       " ['2019', 'Wake', '1089579']]"
      ]
     },
     "execution_count": 28,
     "metadata": {},
     "output_type": "execute_result"
    }
   ],
   "source": [
    "# Check the data\n",
    "cty = 'Wake'\n",
    "list(filter(lambda d: (d[1] == cty), years_pop3))"
   ]
  },
  {
   "cell_type": "code",
   "execution_count": 13,
   "metadata": {},
   "outputs": [],
   "source": [
    "# Save the population data to a file\n",
    "\n",
    "#with open(\"counties_pop_1990_2019.json\", \"w\") as cfile:\n",
    "#    json.dump(years_pop1, cfile)\n",
    "#    json.dump(years_pop2, cfile)\n",
    "#    json.dump(years_pop3, cfile)\n",
    "with open(\"counties_pop_1990_2019.csv\", \"w\") as cfile:\n",
    "    popwriter = csv.writer(cfile)\n",
    "    for row in years_pop1:\n",
    "        popwriter.writerow(row)\n",
    "    for row in years_pop2:\n",
    "        popwriter.writerow(row)\n",
    "    for row in years_pop3:\n",
    "        popwriter.writerow(row)"
   ]
  },
  {
   "cell_type": "markdown",
   "metadata": {},
   "source": [
    "### Check the population data\n"
   ]
  },
  {
   "cell_type": "code",
   "execution_count": 33,
   "metadata": {},
   "outputs": [],
   "source": [
    "# Check the data in \"counties_pop_1990_2019.csv\"\n",
    "cty = 'Rowan'\n",
    "cyr = 2018\n",
    "#with open(\"counties_pop_1990_2019.json\") as f:\n",
    "#    pop_data = json.load(f)\n",
    "#    pp_data = pop_data[1:]\n",
    "#    sel_pop = list(filter(lambda d: (d[1] == cty) & (int(d[0])<=cyr), pp_data))\n",
    "#print(sel_pop)\n",
    "with open(\"counties_pop_1990_2019.csv\") as cfile:\n",
    "    pp_data = csv.reader(cfile)\n",
    "    next(pp_data)\n",
    "    sel_pop = list(filter(lambda d: (d[1] == cty) & (int(d[0])<=cyr), pp_data))\n",
    "        "
   ]
  },
  {
   "cell_type": "code",
   "execution_count": 34,
   "metadata": {},
   "outputs": [
    {
     "name": "stdout",
     "output_type": "stream",
     "text": [
      "['1990', '1980', '2000', '2001', '2002', '2003', '2004', '2005', '2006', '2007', '2008', '2009', '2010', '2011', '2012', '2013', '2014', '2015', '2016', '2017', '2018']\n",
      "['110605', '99186', '130340', '131852', '132765', '132562', '132202', '132527', '134045', '135626', '137721', '138562', '138368', '137841', '137765', '138118', '138897', '139639', '140557', '141445', '141802']\n"
     ]
    }
   ],
   "source": [
    "sel_pop_yrs = [ d[0] for d in sel_pop]\n",
    "sel_pop_size = [d[2] for d in sel_pop]\n",
    "print(sel_pop_yrs)\n",
    "print(sel_pop_size)"
   ]
  },
  {
   "cell_type": "code",
   "execution_count": 35,
   "metadata": {},
   "outputs": [],
   "source": [
    "sel_pop.sort(key=lambda d:d[0])"
   ]
  },
  {
   "cell_type": "code",
   "execution_count": 36,
   "metadata": {},
   "outputs": [
    {
     "name": "stdout",
     "output_type": "stream",
     "text": [
      "['1980', 'Rowan', '99186']\n",
      "['1990', 'Rowan', '110605']\n",
      "['2000', 'Rowan', '130340']\n",
      "['2001', 'Rowan', '131852']\n",
      "['2002', 'Rowan', '132765']\n",
      "['2003', 'Rowan', '132562']\n",
      "['2004', 'Rowan', '132202']\n",
      "['2005', 'Rowan', '132527']\n",
      "['2006', 'Rowan', '134045']\n",
      "['2007', 'Rowan', '135626']\n",
      "['2008', 'Rowan', '137721']\n",
      "['2009', 'Rowan', '138562']\n",
      "['2010', 'Rowan', '138368']\n",
      "['2011', 'Rowan', '137841']\n",
      "['2012', 'Rowan', '137765']\n",
      "['2013', 'Rowan', '138118']\n",
      "['2014', 'Rowan', '138897']\n",
      "['2015', 'Rowan', '139639']\n",
      "['2016', 'Rowan', '140557']\n",
      "['2017', 'Rowan', '141445']\n",
      "['2018', 'Rowan', '141802']\n"
     ]
    }
   ],
   "source": [
    "for d in sel_pop:\n",
    "    print(d)"
   ]
  },
  {
   "cell_type": "code",
   "execution_count": 39,
   "metadata": {},
   "outputs": [
    {
     "name": "stdout",
     "output_type": "stream",
     "text": [
      "1986 ['1980', 'Rowan', '99186']\n",
      "1988 ['1980', 'Rowan', '99186']\n",
      "1990 ['1990', 'Rowan', '110605']\n",
      "1992 ['1990', 'Rowan', '110605']\n",
      "1994 ['1990', 'Rowan', '110605']\n",
      "1996 ['1990', 'Rowan', '110605']\n",
      "1998 ['1990', 'Rowan', '110605']\n",
      "2000 ['2000', 'Rowan', '130340']\n",
      "2002 ['2002', 'Rowan', '132765']\n",
      "2004 ['2004', 'Rowan', '132202']\n",
      "2006 ['2006', 'Rowan', '134045']\n",
      "2008 ['2008', 'Rowan', '137721']\n",
      "2010 ['2010', 'Rowan', '138368']\n",
      "2012 ['2012', 'Rowan', '137765']\n",
      "2013 ['2013', 'Rowan', '138118']\n",
      "2014 ['2014', 'Rowan', '138897']\n",
      "2015 ['2015', 'Rowan', '139639']\n",
      "2016 ['2016', 'Rowan', '140557']\n",
      "2017 ['2017', 'Rowan', '141445']\n",
      "2018 ['2018', 'Rowan', '141802']\n"
     ]
    }
   ],
   "source": [
    "years= ['1986','1988','1990','1992','1994','1996','1998','2000','2002','2004','2006','2008','2010','2012','2013','2014','2015','2016','2017','2018']\n",
    "yrs = []\n",
    "vls = []\n",
    "for yr in years:\n",
    "    if int(yr) > 2018:\n",
    "        break\n",
    "    if int(yr) < 1990:\n",
    "        yrs.append(yr)\n",
    "        vls.append(sel_pop[0][2])\n",
    "        print(yr, sel_pop[0])\n",
    "    elif int(yr) < 2000:\n",
    "        yrs.append(yr)\n",
    "        vls.append(sel_pop[1][2])\n",
    "        print(yr, sel_pop[1])\n",
    "    else:\n",
    "        yrs.append(yr)\n",
    "        yr_pop = list(filter(lambda d: d[0] == yr, sel_pop))\n",
    "        print(yr, yr_pop[0])\n",
    "        vls.append(yr_pop[0][2])"
   ]
  },
  {
   "cell_type": "code",
   "execution_count": 32,
   "metadata": {},
   "outputs": [
    {
     "name": "stdout",
     "output_type": "stream",
     "text": [
      "['301429', '301429', '426301', '426301', '426301', '426301', '426301', '627846', '676392', '716336', '784038', '856492', '906882', '944622', '963856', '983918', '1006139', '1028509', '1049943']\n"
     ]
    }
   ],
   "source": [
    "print(vls)"
   ]
  },
  {
   "cell_type": "code",
   "execution_count": null,
   "metadata": {},
   "outputs": [],
   "source": []
  }
 ],
 "metadata": {
  "anaconda-cloud": {},
  "kernel_info": {
   "name": "python3"
  },
  "kernelspec": {
   "display_name": "Python 3.6.10 64-bit ('PythonData': conda)",
   "language": "python",
   "name": "python361064bitpythondatacondac32fb4695c664fa9afac8681922271ab"
  },
  "language_info": {
   "codemirror_mode": {
    "name": "ipython",
    "version": 3
   },
   "file_extension": ".py",
   "mimetype": "text/x-python",
   "name": "python",
   "nbconvert_exporter": "python",
   "pygments_lexer": "ipython3",
   "version": "3.6.10"
  },
  "latex_envs": {
   "LaTeX_envs_menu_present": true,
   "autoclose": false,
   "autocomplete": true,
   "bibliofile": "biblio.bib",
   "cite_by": "apalike",
   "current_citInitial": 1,
   "eqLabelWithNumbers": true,
   "eqNumInitial": 1,
   "hotkeys": {
    "equation": "Ctrl-E",
    "itemize": "Ctrl-I"
   },
   "labels_anchors": false,
   "latex_user_defs": false,
   "report_style_numbering": false,
   "user_envs_cfg": false
  },
  "nteract": {
   "version": "0.12.3"
  }
 },
 "nbformat": 4,
 "nbformat_minor": 2
}
